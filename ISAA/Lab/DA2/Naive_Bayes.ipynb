{
 "cells": [
  {
   "cell_type": "code",
   "execution_count": 1,
   "metadata": {},
   "outputs": [],
   "source": [
    "import numpy as np\n",
    "import matplotlib.pyplot as plt\n",
    "import pandas as pd"
   ]
  },
  {
   "cell_type": "code",
   "execution_count": 2,
   "metadata": {},
   "outputs": [
    {
     "name": "stdout",
     "output_type": "stream",
     "text": [
      "[[   0    0    0 ...    0    0    0]\n",
      " [   1    0    0 ...    0    0    0]\n",
      " [   2    0    0 ...    0    0    0]\n",
      " ...\n",
      " [ 997 4096    0 ...    0    0    0]\n",
      " [ 998 4096    0 ...    0    0    0]\n",
      " [ 999 4096    0 ...    0    0    0]]\n"
     ]
    }
   ],
   "source": [
    "dataset = pd.read_csv('malware_dataset.csv')\n",
    "dataset1 = dataset.copy()\n",
    "dataset1 = dataset1.drop(['classification'], axis=1)\n",
    "\n",
    "X=dataset1.iloc[:,1:].values\n",
    "y=dataset.iloc[:,2].values\n",
    "print (X)"
   ]
  },
  {
   "cell_type": "code",
   "execution_count": 3,
   "metadata": {},
   "outputs": [
    {
     "name": "stdout",
     "output_type": "stream",
     "text": [
      "[1 1 1 ... 1 1 1]\n"
     ]
    }
   ],
   "source": [
    "from sklearn.preprocessing import LabelEncoder\n",
    "le = LabelEncoder()\n",
    "y = le.fit_transform(y)\n",
    "print (y)"
   ]
  },
  {
   "cell_type": "code",
   "execution_count": 5,
   "metadata": {},
   "outputs": [
    {
     "name": "stdout",
     "output_type": "stream",
     "text": [
      "[[  606 12288     0 ...    10     0     0]\n",
      " [  228 28672     0 ...     0     0     0]\n",
      " [  382  4096     0 ...     1     0     0]\n",
      " ...\n",
      " [  613 12288     0 ...    11     0     0]\n",
      " [  567  4096     0 ...     2     0     0]\n",
      " [  268     0     0 ...     0     0     0]]\n",
      "[0 1 0 ... 0 0 1]\n",
      "[[    582       0       0 ...       8       0       0]\n",
      " [    498       0       0 ...       0       0       0]\n",
      " [    227 1028096       0 ...       4       0       0]\n",
      " ...\n",
      " [    585    4096       0 ...       0       0       0]\n",
      " [    519       0       0 ...       7       0       0]\n",
      " [    831       0       0 ...       0       0       0]]\n",
      "[1 0 0 ... 1 0 0]\n"
     ]
    }
   ],
   "source": [
    "from sklearn.model_selection import train_test_split\n",
    "X_train, X_test, y_train, y_test = train_test_split(X, y, test_size=0.25, random_state=0)\n",
    "print(X_train)\n",
    "print(y_train)\n",
    "print(X_test)\n",
    "print(y_test)"
   ]
  },
  {
   "cell_type": "code",
   "execution_count": 6,
   "metadata": {},
   "outputs": [
    {
     "name": "stdout",
     "output_type": "stream",
     "text": [
      "[[ 0.36731703 -0.15969785  0.         ...  2.5559669   0.\n",
      "   0.        ]\n",
      " [-0.941068   -0.14179605  0.         ... -0.50896701  0.\n",
      "   0.        ]\n",
      " [-0.40802225 -0.16864875  0.         ... -0.20247362  0.\n",
      "   0.        ]\n",
      " ...\n",
      " [ 0.39154638 -0.15969785  0.         ...  2.8624603   0.\n",
      "   0.        ]\n",
      " [ 0.23232492 -0.16864875  0.         ...  0.10401977  0.\n",
      "   0.        ]\n",
      " [-0.80261455 -0.1731242   0.         ... -0.50896701  0.\n",
      "   0.        ]]\n"
     ]
    }
   ],
   "source": [
    "from sklearn.preprocessing import StandardScaler\n",
    "sc= StandardScaler()\n",
    "X_train= sc.fit_transform(X_train)\n",
    "X_test= sc.transform(X_test) \n",
    "print(X_train)"
   ]
  },
  {
   "cell_type": "code",
   "execution_count": 10,
   "metadata": {},
   "outputs": [
    {
     "data": {
      "text/plain": [
       "GaussianNB()"
      ]
     },
     "execution_count": 10,
     "metadata": {},
     "output_type": "execute_result"
    }
   ],
   "source": [
    "from sklearn.naive_bayes import GaussianNB\n",
    "classifier = GaussianNB()\n",
    "classifier.fit(X_train,y_train)"
   ]
  },
  {
   "cell_type": "code",
   "execution_count": 11,
   "metadata": {},
   "outputs": [
    {
     "name": "stdout",
     "output_type": "stream",
     "text": [
      "[[1 1]\n",
      " [1 0]\n",
      " [0 0]\n",
      " ...\n",
      " [1 1]\n",
      " [0 0]\n",
      " [1 0]]\n"
     ]
    }
   ],
   "source": [
    "y_pred=classifier.predict(X_test)\n",
    "print(np.concatenate((y_pred.reshape(len(y_pred),1), y_test.reshape(len(y_test),1)),1))"
   ]
  },
  {
   "cell_type": "code",
   "execution_count": 12,
   "metadata": {},
   "outputs": [
    {
     "name": "stdout",
     "output_type": "stream",
     "text": [
      "[[ 5711  6817]\n",
      " [  853 11619]]\n"
     ]
    },
    {
     "data": {
      "text/plain": [
       "0.6932"
      ]
     },
     "execution_count": 12,
     "metadata": {},
     "output_type": "execute_result"
    }
   ],
   "source": [
    "from sklearn.metrics import confusion_matrix, accuracy_score\n",
    "cm = confusion_matrix(y_test, y_pred)\n",
    "print(cm)\n",
    "accuracy_score(y_test, y_pred)"
   ]
  },
  {
   "cell_type": "code",
   "execution_count": 13,
   "metadata": {},
   "outputs": [
    {
     "name": "stdout",
     "output_type": "stream",
     "text": [
      "[[ 5711  6817]\n",
      " [  853 11619]]\n"
     ]
    },
    {
     "data": {
      "text/plain": [
       "0.6302343241484053"
      ]
     },
     "execution_count": 13,
     "metadata": {},
     "output_type": "execute_result"
    }
   ],
   "source": [
    "from sklearn.metrics import confusion_matrix, precision_score\n",
    "cm = confusion_matrix(y_test, y_pred)\n",
    "print(cm)\n",
    "precision_score(y_test, y_pred)"
   ]
  },
  {
   "cell_type": "code",
   "execution_count": 14,
   "metadata": {},
   "outputs": [
    {
     "name": "stdout",
     "output_type": "stream",
     "text": [
      "[[ 5711  6817]\n",
      " [  853 11619]]\n"
     ]
    },
    {
     "data": {
      "text/plain": [
       "0.9316067992302758"
      ]
     },
     "execution_count": 14,
     "metadata": {},
     "output_type": "execute_result"
    }
   ],
   "source": [
    "from sklearn.metrics import confusion_matrix, recall_score\n",
    "cm = confusion_matrix(y_test, y_pred)\n",
    "print(cm)\n",
    "recall_score(y_test, y_pred)"
   ]
  },
  {
   "cell_type": "code",
   "execution_count": null,
   "metadata": {},
   "outputs": [],
   "source": []
  }
 ],
 "metadata": {
  "kernelspec": {
   "display_name": "Python 3",
   "language": "python",
   "name": "python3"
  },
  "language_info": {
   "codemirror_mode": {
    "name": "ipython",
    "version": 3
   },
   "file_extension": ".py",
   "mimetype": "text/x-python",
   "name": "python",
   "nbconvert_exporter": "python",
   "pygments_lexer": "ipython3",
   "version": "3.8.5"
  }
 },
 "nbformat": 4,
 "nbformat_minor": 4
}
